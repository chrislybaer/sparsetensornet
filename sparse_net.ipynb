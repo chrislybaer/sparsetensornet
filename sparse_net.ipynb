{
 "cells": [
  {
   "cell_type": "markdown",
   "metadata": {},
   "source": [
    "Copyright 2018 Chris Wendler\n",
    "\n",
    "   Licensed under the Apache License, Version 2.0 (the \"License\");\n",
    "   you may not use this file except in compliance with the License.\n",
    "   You may obtain a copy of the License at\n",
    "\n",
    "       http://www.apache.org/licenses/LICENSE-2.0\n",
    "\n",
    "   Unless required by applicable law or agreed to in writing, software\n",
    "   distributed under the License is distributed on an \"AS IS\" BASIS,\n",
    "   WITHOUT WARRANTIES OR CONDITIONS OF ANY KIND, either express or implied.\n",
    "   See the License for the specific language governing permissions and\n",
    "limitations under the License."
   ]
  },
  {
   "cell_type": "markdown",
   "metadata": {},
   "source": [
    "# Tensorflow with Sparse Tensors\n",
    "\n",
    "This notebook implements a fully connected neural network layer parametrized by a sparse tensor. The layer takes a sparse tensor as input and outputs another sparse tensor. Note that for this toy implementation the nonzero indices of the input tensor must coincide with the ones of the weight tensor. The goal of this notebook is to show how to write custom operations with gradients for sparse tensors."
   ]
  },
  {
   "cell_type": "code",
   "execution_count": 1,
   "metadata": {},
   "outputs": [],
   "source": [
    "import numpy as np\n",
    "import tensorflow as tf\n",
    "#tf.enable_eager_execution()"
   ]
  },
  {
   "cell_type": "markdown",
   "metadata": {},
   "source": [
    "## Dataset: XOR - problem\n",
    "\n",
    "We create a dataset with sparse tensors (with fixed nonzero entries) as input and binary labels depending on the first two non-zero components of the sparse tensor are as output. Sample $x$ has label $x_0 \\mbox{ xor } x_1$. "
   ]
  },
  {
   "cell_type": "code",
   "execution_count": 2,
   "metadata": {},
   "outputs": [
    {
     "name": "stdout",
     "output_type": "stream",
     "text": [
      "(5000, 5) (5000,) 0.4976\n"
     ]
    }
   ],
   "source": [
    "model_dir = \"/tmp/xor/model.ckpt\"\n",
    "NUM_EPOCHS = 100\n",
    "BATCH_SIZE = 200\n",
    "N = 5000\n",
    "D = 1000\n",
    "index = np.ones((5, 1))\n",
    "index[:, 0] = np.random.randint(0,D,5)\n",
    "#indices = np.asarray([index]*N)\n",
    "values = np.ones((N, 5))\n",
    "values[:,:4] = np.random.rand(N,4)*2 - 1\n",
    "shape = [D]\n",
    "labels = ((values[:,0] < 0) != (values[:, 1] < 0)).astype(np.int32)\n",
    "print(values.shape, labels.shape, labels.sum()/N)"
   ]
  },
  {
   "cell_type": "markdown",
   "metadata": {},
   "source": [
    "Now we wrap the data into a tf.data.Dataset, in order to feed it to our model later."
   ]
  },
  {
   "cell_type": "code",
   "execution_count": 3,
   "metadata": {},
   "outputs": [],
   "source": [
    "#train data\n",
    "x_train = tf.data.Dataset.from_tensor_slices(values[:int(0.8*N)])\n",
    "y_train = tf.data.Dataset.from_tensor_slices(labels[:int(0.8*N)]).map(lambda y: tf.one_hot(y, 2))\n",
    "dataset = tf.data.Dataset.zip((x_train, y_train))      \n",
    "dataset = dataset.map(lambda x, y: (tf.SparseTensor(index, x, shape), y), 6)\n",
    "dataset = dataset.shuffle(1000).repeat(NUM_EPOCHS).batch(BATCH_SIZE)\n",
    "#test data\n",
    "x_test = tf.data.Dataset.from_tensor_slices(values[int(0.8*N):])\n",
    "y_test = tf.data.Dataset.from_tensor_slices(labels[int(0.8*N):]).map(lambda y: tf.one_hot(y, 2))\n",
    "testset = tf.data.Dataset.zip((x_test, y_test))      \n",
    "testset = testset.map(lambda x, y: (tf.SparseTensor(index, x, shape), y), 6)\n",
    "testset = testset.batch(BATCH_SIZE)\n",
    "#data iterator\n",
    "iterator = tf.data.Iterator.from_structure(dataset.output_types, dataset.output_shapes, output_classes=(tf.SparseTensor, tf.Tensor))\n",
    "next_element = iterator.get_next()\n",
    "train_init_op = iterator.make_initializer(dataset)\n",
    "test_init_op = iterator.make_initializer(testset)"
   ]
  },
  {
   "cell_type": "markdown",
   "metadata": {},
   "source": [
    "## Custom Ops using Pyfunc\n",
    "\n",
    "For any practical application this part should be implemented using a C++ kernel, however, for this toy example it suffices to implement the custom operations necessary for the implementation of the sparse tensor fully connected layer using tf.py_func."
   ]
  },
  {
   "cell_type": "code",
   "execution_count": 4,
   "metadata": {},
   "outputs": [],
   "source": [
    "from tensorflow.python.framework import ops\n",
    "\n",
    "# Define custom py_func which takes also a grad op as argument:\n",
    "def py_func(func, inp, Tout, stateful=True, name=None, grad=None):\n",
    "    # Need to generate a unique name to avoid duplicates:\n",
    "    rnd_name = 'PyFuncGrad' + str(np.random.randint(0, 1E+8))\n",
    "    tf.RegisterGradient(rnd_name)(grad)  \n",
    "    g = tf.get_default_graph()\n",
    "    with g.gradient_override_map({\"PyFunc\": rnd_name}):\n",
    "        return tf.py_func(func, inp, Tout, stateful=stateful, name=name)\n",
    "    \n",
    "def dense_np(w_idx, w_val, w_shape, x_idx, x_val, x_shape):\n",
    "    \"\"\"\n",
    "    Computes fully connected layer for sparse tensors. Nonzero indices must be in matching order.\n",
    "    Args:\n",
    "        w ... the sparse weight tensor [n_neurons, n_nonzeros_in]\n",
    "        x ... the sparse input batch tensor [batch_size, n_nonzeros_in]\n",
    "    \"\"\"\n",
    "    batch_size = x_shape[0]\n",
    "    n_neurons = w_shape[0]\n",
    "    h_shape = np.array([batch_size, n_neurons])\n",
    "    x = np.arange(batch_size)\n",
    "    y = np.arange(n_neurons) \n",
    "    h_idx = np.transpose([np.repeat(x, len(y)), np.tile(y, len(x))])\n",
    "    h_vals = np.zeros(batch_size * n_neurons)\n",
    "    \n",
    "    for bi in range(batch_size):\n",
    "        #for ni in range(n_neurons):\n",
    "        #    h_vals[bi*n_neurons + ni] = np.dot(w_val[w_idx[:,0] == ni], x_val[x_idx[:,0] == bi])\n",
    "        for idx, val in zip(w_idx, w_val):\n",
    "            h_vals[bi*n_neurons + idx[0]] += val * x_val[(x_idx == [bi, idx[1]]).all(axis=1)]      \n",
    "    return h_idx.astype(np.int64), h_vals.astype(np.float32), h_shape.astype(np.int64)\n",
    "\n",
    "def dense_grad_np(w_idx, w_val, w_shape, x_idx, x_val, x_shape, grad):\n",
    "    batch_size = x_shape[0]\n",
    "    n_neurons = w_shape[0]\n",
    "    w_grad = np.zeros(w_val.shape)\n",
    "    x_grad = np.zeros(x_val.shape)\n",
    "    \n",
    "    for j, idx in enumerate(w_idx):\n",
    "        for bi in range(batch_size):\n",
    "            w_grad[j] += grad[bi*n_neurons + idx[0]]*x_val[(x_idx==[bi, idx[1]]).all(axis=1)]\n",
    "            \n",
    "    for k, idx in enumerate(x_idx):\n",
    "        for ni in range(n_neurons):\n",
    "            x_grad[k] += grad[idx[0]*n_neurons + ni]*w_val[(w_idx==[ni, idx[1]]).all(axis=1)]\n",
    "            \n",
    "    return w_grad.astype(np.float32), x_grad.astype(np.float32)\n",
    "\n",
    "def dense_grad_pyfunc(w_idx, w_val, w_shape, x_idx, x_val, x_shape, grad, name=None):\n",
    "    with ops.name_scope(name, \"dense_grad_pyfunc\", [w_idx, w_val, w_shape, x_idx, x_val, x_shape, grad]) as name:\n",
    "        return tf.py_func(dense_grad_np, [w_idx, w_val, w_shape, x_idx, x_val, x_shape, grad], [tf.float32, tf.float32], name=name)\n",
    "\n",
    "def dense_grad(op, grad1, grad2, grad3):\n",
    "    w_idx = op.inputs[0]\n",
    "    w_val = op.inputs[1]\n",
    "    w_shape = op.inputs[2]\n",
    "    x_idx = op.inputs[3]\n",
    "    x_val = op.inputs[4]\n",
    "    x_shape = op.inputs[5]\n",
    "    w_grad, x_grad = dense_grad_pyfunc(w_idx, w_val, w_shape, x_idx, x_val, x_shape, grad2)\n",
    "    return None, w_grad, None, None, x_grad, None\n",
    "\n",
    "def dense_op(w_idx, w_val, w_shape, x_idx, x_val, x_shape, name=None):\n",
    "    with ops.name_scope(name, \"dense_pyfunc\", [w_idx, w_val, w_shape, x_idx, x_val, x_shape]) as name:\n",
    "        return py_func(dense_np, [w_idx, w_val, w_shape, x_idx, x_val, x_shape], [tf.int64, tf.float32, tf.int64],\n",
    "                       name = name, grad = dense_grad)\n",
    "    \n"
   ]
  },
  {
   "cell_type": "markdown",
   "metadata": {},
   "source": [
    "## Implementation of the Custom Layer"
   ]
  },
  {
   "cell_type": "code",
   "execution_count": 5,
   "metadata": {},
   "outputs": [],
   "source": [
    "from tensorflow.python.framework import tensor_shape\n",
    "from tensorflow.python.layers import base\n",
    "from tensorflow.python.layers import utils\n",
    "class SparseFullyConnected(base.Layer):\n",
    "    def __init__(self, units, units_in, in_indices, activation, to_dense=False, name=None, trainable=True, **kwargs):\n",
    "        super(SparseFullyConnected, self).__init__(trainable=trainable, name=name, **kwargs)\n",
    "        self.n_units_out = units\n",
    "        self.n_units_in = units_in\n",
    "        self.activation = activation\n",
    "        self.in_indices = in_indices\n",
    "        self.to_dense = to_dense\n",
    "\n",
    "    def build(self, input_shape):\n",
    "        #expected input format: [None, dim]\n",
    "        n_nonzero = len(self.in_indices)\n",
    "        with tf.variable_scope(self.name, reuse=True) as scope:\n",
    "            self.w_values = self.add_variable('W', shape=[self.n_units_out * n_nonzero], dtype=tf.float32, \n",
    "                                     initializer=tf.glorot_uniform_initializer(), trainable=True)\n",
    "        self.w_shape = [self.n_units_out, self.n_units_in]\n",
    "        x = np.arange(self.n_units_out)\n",
    "        y = self.in_indices\n",
    "        self.w_indices = np.transpose([np.repeat(x, len(y)), np.tile(y, len(x))])\n",
    "        self.W = tf.SparseTensor(self.w_indices, self.w_values, self.w_shape)\n",
    "        self.built = True\n",
    "        \n",
    "    def call(self, inputs):\n",
    "        w_idx = self.W.indices\n",
    "        w_val = self.W.values\n",
    "        w_shape = self.W.dense_shape\n",
    "        x_idx = inputs.indices\n",
    "        x_val = inputs.values\n",
    "        x_shape = inputs.dense_shape\n",
    "        h_idx, h_val, h_shape = dense_op(w_idx, w_val, w_shape, x_idx, x_val, x_shape)\n",
    "        #h = tf.SparseTensor(h_idx, h_val, h_shape)\n",
    "        h = tf.SparseTensor(h_idx, self.activation(h_val), h_shape)\n",
    "        if(self.to_dense):\n",
    "            h = tf.sparse_add(tf.zeros(h_shape), h) \n",
    "        return h\n",
    "        \n",
    "def sparsefc(inputs, units, units_in, in_indices, activation, to_dense=False, name=None, reuse=None):\n",
    "    layer = SparseFullyConnected(units, units_in, in_indices, activation, to_dense=to_dense, name=name, dtype=inputs.dtype.base_dtype, _scope=name, _reuse=reuse)\n",
    "    return layer.apply(inputs)"
   ]
  },
  {
   "cell_type": "markdown",
   "metadata": {},
   "source": [
    "## Defintion of the Model and Training/Test Loop"
   ]
  },
  {
   "cell_type": "code",
   "execution_count": 6,
   "metadata": {},
   "outputs": [],
   "source": [
    "def nn_model(in_data):\n",
    "    in_indices = index.reshape((-1))\n",
    "    fc1 = sparsefc(in_data, 10, D, in_indices, tf.nn.relu)\n",
    "    in_indices = np.arange(10)\n",
    "    fc2 = sparsefc(fc1, 10, 10, in_indices, tf.nn.relu)\n",
    "    fc3 = sparsefc(fc2, 2, 10, in_indices, tf.nn.relu, to_dense=True)\n",
    "    return fc3"
   ]
  },
  {
   "cell_type": "code",
   "execution_count": 7,
   "metadata": {},
   "outputs": [],
   "source": [
    "logits = nn_model(next_element[0])\n",
    "# add the optimizer and loss\n",
    "loss = tf.reduce_sum(tf.nn.softmax_cross_entropy_with_logits_v2(labels=next_element[1], logits=logits))\n",
    "optimizer = tf.train.AdamOptimizer().minimize(loss)\n",
    "# get accuracy\n",
    "prediction = tf.argmax(logits, 1)\n",
    "equality = tf.equal(prediction, tf.argmax(next_element[1], 1))\n",
    "accuracy = tf.reduce_mean(tf.cast(equality, tf.float32))\n",
    "init_op = tf.global_variables_initializer()"
   ]
  },
  {
   "cell_type": "code",
   "execution_count": null,
   "metadata": {},
   "outputs": [
    {
     "name": "stdout",
     "output_type": "stream",
     "text": [
      "<tf.Variable 'sparse_fully_connected/W:0' shape=(50,) dtype=float32_ref>\n",
      "<tf.Variable 'sparse_fully_connected_1/W:0' shape=(100,) dtype=float32_ref>\n",
      "<tf.Variable 'sparse_fully_connected_2/W:0' shape=(20,) dtype=float32_ref>\n",
      "<tf.Variable 'beta1_power:0' shape=() dtype=float32_ref>\n",
      "<tf.Variable 'beta2_power:0' shape=() dtype=float32_ref>\n",
      "<tf.Variable 'sparse_fully_connected/W/Adam:0' shape=(50,) dtype=float32_ref>\n",
      "<tf.Variable 'sparse_fully_connected/W/Adam_1:0' shape=(50,) dtype=float32_ref>\n",
      "<tf.Variable 'sparse_fully_connected_1/W/Adam:0' shape=(100,) dtype=float32_ref>\n",
      "<tf.Variable 'sparse_fully_connected_1/W/Adam_1:0' shape=(100,) dtype=float32_ref>\n",
      "<tf.Variable 'sparse_fully_connected_2/W/Adam:0' shape=(20,) dtype=float32_ref>\n",
      "<tf.Variable 'sparse_fully_connected_2/W/Adam_1:0' shape=(20,) dtype=float32_ref>\n"
     ]
    }
   ],
   "source": [
    "for var in tf.get_collection(tf.GraphKeys.GLOBAL_VARIABLES):\n",
    "    print(var)"
   ]
  },
  {
   "cell_type": "code",
   "execution_count": null,
   "metadata": {},
   "outputs": [
    {
     "name": "stdout",
     "output_type": "stream",
     "text": [
      "Batch: 0, loss: 138.357, training accuracy: 56.00%\n",
      "W change:  4.999973e-05\n",
      "Model saved in path: /tmp/xor/model.ckpt-0\n"
     ]
    }
   ],
   "source": [
    "with tf.variable_scope('sparse_fully_connected', reuse=True):\n",
    "    W = tf.get_variable('W', shape=[50])\n",
    "    \n",
    "\n",
    "# run the training\n",
    "saver = tf.train.Saver()\n",
    "with tf.Session() as sess:\n",
    "    sess.run(init_op)\n",
    "    W0 = W.eval()\n",
    "    sess.run(train_init_op)\n",
    "    i = 0\n",
    "    while True:\n",
    "        try:\n",
    "            l, _, acc = sess.run([loss, optimizer, accuracy])\n",
    "            if i % 10 == 0:\n",
    "                W1 = W.eval()\n",
    "                print(\"Batch: {}, loss: {:.3f}, training accuracy: {:.2f}%\".format(i, l, acc * 100))\n",
    "                print(\"W change: \", np.sum((W0-W1)**2))\n",
    "                W0 = W1\n",
    "                save_path = saver.save(sess, model_dir, i)\n",
    "                print(\"Model saved in path:\", save_path)\n",
    "            i += 1\n",
    "        except tf.errors.OutOfRangeError:\n",
    "            break\n",
    "    # now setup the validation run\n",
    "    valid_iters = 100\n",
    "    # re-initialize the iterator, but this time with validation data\n",
    "    sess.run(test_init_op)\n",
    "    avg_acc = 0\n",
    "    valid_iters = 0\n",
    "    while True:\n",
    "        try:\n",
    "            acc = sess.run([accuracy])\n",
    "            avg_acc += acc[0]\n",
    "            valid_iters += 1\n",
    "        except tf.errors.OutOfRangeError:\n",
    "            break\n",
    "    print(\"Average validation set accuracy over {} iterations is {:.2f}%\".format(valid_iters, (avg_acc / valid_iters) * 100))"
   ]
  },
  {
   "cell_type": "code",
   "execution_count": null,
   "metadata": {},
   "outputs": [],
   "source": [
    "with tf.variable_scope('sparse_fully_connected', reuse=True):\n",
    "    W = tf.get_variable('W', shape=[50])\n",
    "with tf.Session() as sess:\n",
    "    saver.restore(sess, model_dir)\n",
    "    print(W.eval())"
   ]
  },
  {
   "cell_type": "code",
   "execution_count": null,
   "metadata": {},
   "outputs": [],
   "source": []
  },
  {
   "cell_type": "code",
   "execution_count": null,
   "metadata": {},
   "outputs": [],
   "source": []
  }
 ],
 "metadata": {
  "kernelspec": {
   "display_name": "Python 3",
   "language": "python",
   "name": "python3"
  },
  "language_info": {
   "codemirror_mode": {
    "name": "ipython",
    "version": 3
   },
   "file_extension": ".py",
   "mimetype": "text/x-python",
   "name": "python",
   "nbconvert_exporter": "python",
   "pygments_lexer": "ipython3",
   "version": "3.6.5"
  }
 },
 "nbformat": 4,
 "nbformat_minor": 2
}
